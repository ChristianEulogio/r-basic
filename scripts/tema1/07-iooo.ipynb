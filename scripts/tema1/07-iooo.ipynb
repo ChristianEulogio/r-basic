{
 "cells": [
  {
   "cell_type": "markdown",
   "id": "86a8ccee",
   "metadata": {},
   "source": [
    "# Entrada y salidda de datos"
   ]
  },
  {
   "cell_type": "code",
   "execution_count": 1,
   "id": "846deff9",
   "metadata": {},
   "outputs": [
    {
     "name": "stdout",
     "output_type": "stream",
     "text": [
      "Hola, me llamo christian eulogio\n"
     ]
    }
   ],
   "source": [
    "print(\"Hola, me llamo christian eulogio\")"
   ]
  },
  {
   "cell_type": "code",
   "execution_count": 2,
   "id": "2a0aa7dc",
   "metadata": {},
   "outputs": [
    {
     "name": "stdout",
     "output_type": "stream",
     "text": [
      "5\n"
     ]
    }
   ],
   "source": [
    "x=5\n",
    "print(x)"
   ]
  },
  {
   "cell_type": "code",
   "execution_count": 3,
   "id": "c2ed7171",
   "metadata": {},
   "outputs": [
    {
     "ename": "SyntaxError",
     "evalue": "invalid syntax (<ipython-input-3-8ad2794836d7>, line 1)",
     "output_type": "error",
     "traceback": [
      "\u001b[1;36m  File \u001b[1;32m\"<ipython-input-3-8ad2794836d7>\"\u001b[1;36m, line \u001b[1;32m1\u001b[0m\n\u001b[1;33m    hola como te llamas yo me llamo christian jajjaj\u001b[0m\n\u001b[1;37m         ^\u001b[0m\n\u001b[1;31mSyntaxError\u001b[0m\u001b[1;31m:\u001b[0m invalid syntax\n"
     ]
    }
   ],
   "source": [
    "hola como te llamas yo me llamo christian jajjaj"
   ]
  },
  {
   "cell_type": "code",
   "execution_count": 4,
   "id": "58c72bc0",
   "metadata": {},
   "outputs": [
    {
     "name": "stdout",
     "output_type": "stream",
     "text": [
      "Hola yo me llamo christian\n"
     ]
    }
   ],
   "source": [
    "print(\"Hola yo me llamo christian\")"
   ]
  },
  {
   "cell_type": "code",
   "execution_count": 13,
   "id": "e28c4dc5",
   "metadata": {},
   "outputs": [
    {
     "name": "stdout",
     "output_type": "stream",
     "text": [
      "El valor de la variable 5 es:\n"
     ]
    }
   ],
   "source": [
    "print(f\"El valor de la variable {x} es:\" )"
   ]
  },
  {
   "cell_type": "code",
   "execution_count": 14,
   "id": "b3522746",
   "metadata": {},
   "outputs": [
    {
     "name": "stdout",
     "output_type": "stream",
     "text": [
      "El valor de la variable 5\n"
     ]
    }
   ],
   "source": [
    "print(\"El valor de la variable \"+str(x))"
   ]
  },
  {
   "cell_type": "code",
   "execution_count": 15,
   "id": "e10c0d4e",
   "metadata": {},
   "outputs": [
    {
     "name": "stdout",
     "output_type": "stream",
     "text": [
      "Introduce tu nombreChristan\n"
     ]
    }
   ],
   "source": [
    "nombre=input(\"Introduce tu nombre\")"
   ]
  },
  {
   "cell_type": "code",
   "execution_count": 16,
   "id": "54045a2d",
   "metadata": {},
   "outputs": [
    {
     "data": {
      "text/plain": [
       "'Christan'"
      ]
     },
     "execution_count": 16,
     "metadata": {},
     "output_type": "execute_result"
    }
   ],
   "source": [
    "nombre"
   ]
  },
  {
   "cell_type": "code",
   "execution_count": 17,
   "id": "bd7de8bc",
   "metadata": {},
   "outputs": [
    {
     "name": "stdout",
     "output_type": "stream",
     "text": [
      "Christan\n"
     ]
    }
   ],
   "source": [
    "print(nombre)"
   ]
  },
  {
   "cell_type": "code",
   "execution_count": null,
   "id": "e1e259b7",
   "metadata": {},
   "outputs": [],
   "source": []
  }
 ],
 "metadata": {
  "kernelspec": {
   "display_name": "Python 3",
   "language": "python",
   "name": "python3"
  },
  "language_info": {
   "codemirror_mode": {
    "name": "ipython",
    "version": 3
   },
   "file_extension": ".py",
   "mimetype": "text/x-python",
   "name": "python",
   "nbconvert_exporter": "python",
   "pygments_lexer": "ipython3",
   "version": "3.8.8"
  }
 },
 "nbformat": 4,
 "nbformat_minor": 5
}
