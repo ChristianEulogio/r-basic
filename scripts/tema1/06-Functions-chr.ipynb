{
 "cells": [
  {
   "cell_type": "markdown",
   "id": "f4b2f4d6",
   "metadata": {},
   "source": [
    "# Funciones en Python"
   ]
  },
  {
   "cell_type": "code",
   "execution_count": 1,
   "id": "71aa973e",
   "metadata": {},
   "outputs": [
    {
     "data": {
      "text/plain": [
       "20"
      ]
     },
     "execution_count": 1,
     "metadata": {},
     "output_type": "execute_result"
    }
   ],
   "source": [
    "def suma(x,y):\n",
    "    return x+y\n",
    "\n",
    "suma(13,7)"
   ]
  },
  {
   "cell_type": "code",
   "execution_count": 26,
   "id": "aaa317fc",
   "metadata": {},
   "outputs": [],
   "source": [
    "class Operaciones(object):\n",
    "    def suma (self, x, y):\n",
    "        self.resultado = x+y\n",
    "        return self.resultado    \n",
    "    def resta (self, x, y):\n",
    "        self.resultado = x-y\n",
    "        return self.resultado"
   ]
  },
  {
   "cell_type": "code",
   "execution_count": 29,
   "id": "4896f096",
   "metadata": {},
   "outputs": [],
   "source": [
    "oper = Operaciones()"
   ]
  },
  {
   "cell_type": "code",
   "execution_count": 32,
   "id": "71ab1f5a",
   "metadata": {},
   "outputs": [
    {
     "data": {
      "text/plain": [
       "9"
      ]
     },
     "execution_count": 32,
     "metadata": {},
     "output_type": "execute_result"
    }
   ],
   "source": [
    "oper.suma(4,5)"
   ]
  },
  {
   "cell_type": "code",
   "execution_count": 33,
   "id": "04efd19f",
   "metadata": {},
   "outputs": [
    {
     "data": {
      "text/plain": [
       "-22"
      ]
     },
     "execution_count": 33,
     "metadata": {},
     "output_type": "execute_result"
    }
   ],
   "source": [
    "oper.resta(23,45)"
   ]
  },
  {
   "cell_type": "code",
   "execution_count": 39,
   "id": "922d9bce",
   "metadata": {},
   "outputs": [],
   "source": [
    "def saludar():\n",
    "    name= str(input(\"introduce tu nombre: \"))\n",
    "    if name:\n",
    "        print(\"Hola \"+name)\n",
    "    else:\n",
    "        print(\"Estoy programando\")\n"
   ]
  },
  {
   "cell_type": "code",
   "execution_count": 42,
   "id": "0db7ef0c",
   "metadata": {},
   "outputs": [
    {
     "name": "stdout",
     "output_type": "stream",
     "text": [
      "introduce tu nombre: christian\n",
      "Hola christian\n"
     ]
    },
    {
     "data": {
      "text/plain": [
       "()"
      ]
     },
     "execution_count": 42,
     "metadata": {},
     "output_type": "execute_result"
    }
   ],
   "source": [
    "saludar()"
   ]
  },
  {
   "cell_type": "code",
   "execution_count": 43,
   "id": "65e0cc68",
   "metadata": {},
   "outputs": [
    {
     "name": "stdout",
     "output_type": "stream",
     "text": [
      "introduce tu nombre: \n",
      "Estoy programando\n"
     ]
    },
    {
     "data": {
      "text/plain": [
       "()"
      ]
     },
     "execution_count": 43,
     "metadata": {},
     "output_type": "execute_result"
    }
   ],
   "source": [
    "saludar()"
   ]
  },
  {
   "cell_type": "code",
   "execution_count": 63,
   "id": "936b2188",
   "metadata": {},
   "outputs": [],
   "source": [
    "def buscaPares():\n",
    "    for x in range(100):\n",
    "        if x % 2 == 0:\n",
    "            print (f\"Este es un numero par: {x}\")\n",
    "            print(\"\\n\")\n",
    "        else:\n",
    "            print (f\"Este es un nuemro impar: {x}\")\n",
    "            print(\"\\n\")"
   ]
  },
  {
   "cell_type": "code",
   "execution_count": 64,
   "id": "2b0a585d",
   "metadata": {},
   "outputs": [
    {
     "name": "stdout",
     "output_type": "stream",
     "text": [
      "Este es un numero par: 0\n",
      "\n",
      "\n",
      "Este es un nuemro impar: 1\n",
      "\n",
      "\n",
      "Este es un numero par: 2\n",
      "\n",
      "\n",
      "Este es un nuemro impar: 3\n",
      "\n",
      "\n",
      "Este es un numero par: 4\n",
      "\n",
      "\n",
      "Este es un nuemro impar: 5\n",
      "\n",
      "\n",
      "Este es un numero par: 6\n",
      "\n",
      "\n",
      "Este es un nuemro impar: 7\n",
      "\n",
      "\n",
      "Este es un numero par: 8\n",
      "\n",
      "\n",
      "Este es un nuemro impar: 9\n",
      "\n",
      "\n",
      "Este es un numero par: 10\n",
      "\n",
      "\n",
      "Este es un nuemro impar: 11\n",
      "\n",
      "\n",
      "Este es un numero par: 12\n",
      "\n",
      "\n",
      "Este es un nuemro impar: 13\n",
      "\n",
      "\n",
      "Este es un numero par: 14\n",
      "\n",
      "\n",
      "Este es un nuemro impar: 15\n",
      "\n",
      "\n",
      "Este es un numero par: 16\n",
      "\n",
      "\n",
      "Este es un nuemro impar: 17\n",
      "\n",
      "\n",
      "Este es un numero par: 18\n",
      "\n",
      "\n",
      "Este es un nuemro impar: 19\n",
      "\n",
      "\n",
      "Este es un numero par: 20\n",
      "\n",
      "\n",
      "Este es un nuemro impar: 21\n",
      "\n",
      "\n",
      "Este es un numero par: 22\n",
      "\n",
      "\n",
      "Este es un nuemro impar: 23\n",
      "\n",
      "\n",
      "Este es un numero par: 24\n",
      "\n",
      "\n",
      "Este es un nuemro impar: 25\n",
      "\n",
      "\n",
      "Este es un numero par: 26\n",
      "\n",
      "\n",
      "Este es un nuemro impar: 27\n",
      "\n",
      "\n",
      "Este es un numero par: 28\n",
      "\n",
      "\n",
      "Este es un nuemro impar: 29\n",
      "\n",
      "\n",
      "Este es un numero par: 30\n",
      "\n",
      "\n",
      "Este es un nuemro impar: 31\n",
      "\n",
      "\n",
      "Este es un numero par: 32\n",
      "\n",
      "\n",
      "Este es un nuemro impar: 33\n",
      "\n",
      "\n",
      "Este es un numero par: 34\n",
      "\n",
      "\n",
      "Este es un nuemro impar: 35\n",
      "\n",
      "\n",
      "Este es un numero par: 36\n",
      "\n",
      "\n",
      "Este es un nuemro impar: 37\n",
      "\n",
      "\n",
      "Este es un numero par: 38\n",
      "\n",
      "\n",
      "Este es un nuemro impar: 39\n",
      "\n",
      "\n",
      "Este es un numero par: 40\n",
      "\n",
      "\n",
      "Este es un nuemro impar: 41\n",
      "\n",
      "\n",
      "Este es un numero par: 42\n",
      "\n",
      "\n",
      "Este es un nuemro impar: 43\n",
      "\n",
      "\n",
      "Este es un numero par: 44\n",
      "\n",
      "\n",
      "Este es un nuemro impar: 45\n",
      "\n",
      "\n",
      "Este es un numero par: 46\n",
      "\n",
      "\n",
      "Este es un nuemro impar: 47\n",
      "\n",
      "\n",
      "Este es un numero par: 48\n",
      "\n",
      "\n",
      "Este es un nuemro impar: 49\n",
      "\n",
      "\n",
      "Este es un numero par: 50\n",
      "\n",
      "\n",
      "Este es un nuemro impar: 51\n",
      "\n",
      "\n",
      "Este es un numero par: 52\n",
      "\n",
      "\n",
      "Este es un nuemro impar: 53\n",
      "\n",
      "\n",
      "Este es un numero par: 54\n",
      "\n",
      "\n",
      "Este es un nuemro impar: 55\n",
      "\n",
      "\n",
      "Este es un numero par: 56\n",
      "\n",
      "\n",
      "Este es un nuemro impar: 57\n",
      "\n",
      "\n",
      "Este es un numero par: 58\n",
      "\n",
      "\n",
      "Este es un nuemro impar: 59\n",
      "\n",
      "\n",
      "Este es un numero par: 60\n",
      "\n",
      "\n",
      "Este es un nuemro impar: 61\n",
      "\n",
      "\n",
      "Este es un numero par: 62\n",
      "\n",
      "\n",
      "Este es un nuemro impar: 63\n",
      "\n",
      "\n",
      "Este es un numero par: 64\n",
      "\n",
      "\n",
      "Este es un nuemro impar: 65\n",
      "\n",
      "\n",
      "Este es un numero par: 66\n",
      "\n",
      "\n",
      "Este es un nuemro impar: 67\n",
      "\n",
      "\n",
      "Este es un numero par: 68\n",
      "\n",
      "\n",
      "Este es un nuemro impar: 69\n",
      "\n",
      "\n",
      "Este es un numero par: 70\n",
      "\n",
      "\n",
      "Este es un nuemro impar: 71\n",
      "\n",
      "\n",
      "Este es un numero par: 72\n",
      "\n",
      "\n",
      "Este es un nuemro impar: 73\n",
      "\n",
      "\n",
      "Este es un numero par: 74\n",
      "\n",
      "\n",
      "Este es un nuemro impar: 75\n",
      "\n",
      "\n",
      "Este es un numero par: 76\n",
      "\n",
      "\n",
      "Este es un nuemro impar: 77\n",
      "\n",
      "\n",
      "Este es un numero par: 78\n",
      "\n",
      "\n",
      "Este es un nuemro impar: 79\n",
      "\n",
      "\n",
      "Este es un numero par: 80\n",
      "\n",
      "\n",
      "Este es un nuemro impar: 81\n",
      "\n",
      "\n",
      "Este es un numero par: 82\n",
      "\n",
      "\n",
      "Este es un nuemro impar: 83\n",
      "\n",
      "\n",
      "Este es un numero par: 84\n",
      "\n",
      "\n",
      "Este es un nuemro impar: 85\n",
      "\n",
      "\n",
      "Este es un numero par: 86\n",
      "\n",
      "\n",
      "Este es un nuemro impar: 87\n",
      "\n",
      "\n",
      "Este es un numero par: 88\n",
      "\n",
      "\n",
      "Este es un nuemro impar: 89\n",
      "\n",
      "\n",
      "Este es un numero par: 90\n",
      "\n",
      "\n",
      "Este es un nuemro impar: 91\n",
      "\n",
      "\n",
      "Este es un numero par: 92\n",
      "\n",
      "\n",
      "Este es un nuemro impar: 93\n",
      "\n",
      "\n",
      "Este es un numero par: 94\n",
      "\n",
      "\n",
      "Este es un nuemro impar: 95\n",
      "\n",
      "\n",
      "Este es un numero par: 96\n",
      "\n",
      "\n",
      "Este es un nuemro impar: 97\n",
      "\n",
      "\n",
      "Este es un numero par: 98\n",
      "\n",
      "\n",
      "Este es un nuemro impar: 99\n",
      "\n",
      "\n"
     ]
    }
   ],
   "source": [
    "buscaPares()"
   ]
  },
  {
   "cell_type": "code",
   "execution_count": 70,
   "id": "5e23d38a",
   "metadata": {},
   "outputs": [],
   "source": [
    "def sumaresta(x,y):\n",
    "    suma = x+y\n",
    "    resta = x-y\n",
    "    return suma, resta\n"
   ]
  },
  {
   "cell_type": "code",
   "execution_count": 71,
   "id": "69906ec2",
   "metadata": {},
   "outputs": [
    {
     "data": {
      "text/plain": [
       "(1467, 999)"
      ]
     },
     "execution_count": 71,
     "metadata": {},
     "output_type": "execute_result"
    }
   ],
   "source": [
    "sumaresta(1233,234)"
   ]
  },
  {
   "cell_type": "code",
   "execution_count": 72,
   "id": "f6972f81",
   "metadata": {},
   "outputs": [
    {
     "data": {
      "text/plain": [
       "(267, 219)"
      ]
     },
     "execution_count": 72,
     "metadata": {},
     "output_type": "execute_result"
    }
   ],
   "source": [
    "sumaresta(x=243,y=24)"
   ]
  },
  {
   "cell_type": "code",
   "execution_count": 73,
   "id": "5aadc8c1",
   "metadata": {},
   "outputs": [],
   "source": [
    "#en caso de ausencia de numero en y: \n",
    "\n",
    "def sumaresta(x,y=0):\n",
    "    suma = x+y\n",
    "    resta = x-y\n",
    "    return suma, resta"
   ]
  },
  {
   "cell_type": "code",
   "execution_count": 74,
   "id": "6b846e73",
   "metadata": {},
   "outputs": [
    {
     "data": {
      "text/plain": [
       "(32, 32)"
      ]
     },
     "execution_count": 74,
     "metadata": {},
     "output_type": "execute_result"
    }
   ],
   "source": [
    "sumaresta(32)"
   ]
  },
  {
   "cell_type": "code",
   "execution_count": 75,
   "id": "06867806",
   "metadata": {},
   "outputs": [
    {
     "data": {
      "text/plain": [
       "(3657, 3189)"
      ]
     },
     "execution_count": 75,
     "metadata": {},
     "output_type": "execute_result"
    }
   ],
   "source": [
    "sumaresta(3423,234)"
   ]
  },
  {
   "cell_type": "code",
   "execution_count": 13,
   "id": "ec85d603",
   "metadata": {},
   "outputs": [],
   "source": [
    "def suma(*a):\n",
    "    return sum(a)"
   ]
  },
  {
   "cell_type": "code",
   "execution_count": 6,
   "id": "c16bc7c1",
   "metadata": {},
   "outputs": [
    {
     "data": {
      "text/plain": [
       "3"
      ]
     },
     "execution_count": 6,
     "metadata": {},
     "output_type": "execute_result"
    }
   ],
   "source": [
    "suma(1,2)"
   ]
  },
  {
   "cell_type": "code",
   "execution_count": 7,
   "id": "1d3eca46",
   "metadata": {},
   "outputs": [
    {
     "data": {
      "text/plain": [
       "9068"
      ]
     },
     "execution_count": 7,
     "metadata": {},
     "output_type": "execute_result"
    }
   ],
   "source": [
    "suma(322,232,2323,5435,756)"
   ]
  },
  {
   "cell_type": "code",
   "execution_count": 4,
   "id": "6100b03a",
   "metadata": {},
   "outputs": [
    {
     "data": {
      "text/plain": [
       "5"
      ]
     },
     "execution_count": 4,
     "metadata": {},
     "output_type": "execute_result"
    }
   ],
   "source": [
    "suma(1,4)"
   ]
  },
  {
   "cell_type": "code",
   "execution_count": 14,
   "id": "c00aa12f",
   "metadata": {},
   "outputs": [
    {
     "data": {
      "text/plain": [
       "468"
      ]
     },
     "execution_count": 14,
     "metadata": {},
     "output_type": "execute_result"
    }
   ],
   "source": [
    "suma(234,234)"
   ]
  },
  {
   "cell_type": "code",
   "execution_count": 21,
   "id": "ff1a6de1",
   "metadata": {},
   "outputs": [],
   "source": [
    "def sumacuadrados(*datos):\n",
    "    total=0\n",
    "    for d in datos:\n",
    "        total= total + d**2 #total += d**2\n",
    "    return total"
   ]
  },
  {
   "cell_type": "code",
   "execution_count": 17,
   "id": "00bcb4da",
   "metadata": {},
   "outputs": [
    {
     "data": {
      "text/plain": [
       "8"
      ]
     },
     "execution_count": 17,
     "metadata": {},
     "output_type": "execute_result"
    }
   ],
   "source": [
    "sumacuadrados(2,2)"
   ]
  },
  {
   "cell_type": "code",
   "execution_count": 20,
   "id": "68adf2b2",
   "metadata": {},
   "outputs": [
    {
     "data": {
      "text/plain": [
       "22"
      ]
     },
     "execution_count": 20,
     "metadata": {},
     "output_type": "execute_result"
    }
   ],
   "source": [
    "sumacuadrados(3,3,2)"
   ]
  },
  {
   "cell_type": "code",
   "execution_count": 19,
   "id": "b3dd92bc",
   "metadata": {},
   "outputs": [
    {
     "data": {
      "text/plain": [
       "5540"
      ]
     },
     "execution_count": 19,
     "metadata": {},
     "output_type": "execute_result"
    }
   ],
   "source": [
    "sumacuadrados(8,74)"
   ]
  },
  {
   "cell_type": "markdown",
   "id": "b66ab03e",
   "metadata": {},
   "source": [
    "## Funciones anonimas"
   ]
  },
  {
   "cell_type": "code",
   "execution_count": 23,
   "id": "cb2eb473",
   "metadata": {},
   "outputs": [],
   "source": [
    "doble = lambda x: x*2"
   ]
  },
  {
   "cell_type": "code",
   "execution_count": 37,
   "id": "42198630",
   "metadata": {},
   "outputs": [
    {
     "data": {
      "text/plain": [
       "10"
      ]
     },
     "execution_count": 37,
     "metadata": {},
     "output_type": "execute_result"
    }
   ],
   "source": [
    "doble(5)"
   ]
  },
  {
   "cell_type": "code",
   "execution_count": 47,
   "id": "b4c9cdfb",
   "metadata": {},
   "outputs": [],
   "source": [
    "cuadrado= lambda x: x**2"
   ]
  },
  {
   "cell_type": "code",
   "execution_count": 48,
   "id": "1b392482",
   "metadata": {},
   "outputs": [
    {
     "data": {
      "text/plain": [
       "16"
      ]
     },
     "execution_count": 48,
     "metadata": {},
     "output_type": "execute_result"
    }
   ],
   "source": [
    "cuadrado(4)"
   ]
  },
  {
   "cell_type": "code",
   "execution_count": 65,
   "id": "907acb49",
   "metadata": {},
   "outputs": [],
   "source": [
    "def cuadrado(n):\n",
    "   \n",
    "    return n**2"
   ]
  },
  {
   "cell_type": "code",
   "execution_count": 64,
   "id": "54119be8",
   "metadata": {},
   "outputs": [
    {
     "data": {
      "text/plain": [
       "64"
      ]
     },
     "execution_count": 64,
     "metadata": {},
     "output_type": "execute_result"
    }
   ],
   "source": [
    "cuadrado(8)"
   ]
  },
  {
   "cell_type": "code",
   "execution_count": 66,
   "id": "e9d40c9c",
   "metadata": {},
   "outputs": [],
   "source": [
    "suma= lambda x, y: x+y"
   ]
  },
  {
   "cell_type": "code",
   "execution_count": 67,
   "id": "37872789",
   "metadata": {},
   "outputs": [
    {
     "data": {
      "text/plain": [
       "46"
      ]
     },
     "execution_count": 67,
     "metadata": {},
     "output_type": "execute_result"
    }
   ],
   "source": [
    "suma(23,23)"
   ]
  },
  {
   "cell_type": "code",
   "execution_count": 69,
   "id": "88d7a3b1",
   "metadata": {},
   "outputs": [],
   "source": [
    "from functools import reduce"
   ]
  },
  {
   "cell_type": "code",
   "execution_count": 70,
   "id": "b930a85f",
   "metadata": {},
   "outputs": [],
   "source": [
    "data= [1,2,3,4,5,6,7,8,9,10]"
   ]
  },
  {
   "cell_type": "code",
   "execution_count": 76,
   "id": "f26a2d58",
   "metadata": {},
   "outputs": [],
   "source": [
    "filtered_data = list(filter(lambda x: (x*2>8), data))"
   ]
  },
  {
   "cell_type": "code",
   "execution_count": 77,
   "id": "46d17adb",
   "metadata": {},
   "outputs": [
    {
     "data": {
      "text/plain": [
       "[5, 6, 7, 8, 9, 10]"
      ]
     },
     "execution_count": 77,
     "metadata": {},
     "output_type": "execute_result"
    }
   ],
   "source": [
    "filtered_data"
   ]
  },
  {
   "cell_type": "code",
   "execution_count": 79,
   "id": "b9d08a61",
   "metadata": {},
   "outputs": [],
   "source": [
    "mapped_data = list(map(lambda x: x*2, data)) "
   ]
  },
  {
   "cell_type": "code",
   "execution_count": 80,
   "id": "08c87335",
   "metadata": {},
   "outputs": [
    {
     "data": {
      "text/plain": [
       "[2, 4, 6, 8, 10, 12, 14, 16, 18, 20]"
      ]
     },
     "execution_count": 80,
     "metadata": {},
     "output_type": "execute_result"
    }
   ],
   "source": [
    "mapped_data"
   ]
  },
  {
   "cell_type": "code",
   "execution_count": 81,
   "id": "25e3da51",
   "metadata": {},
   "outputs": [],
   "source": [
    "reduced_data= reduce(lambda x,y: x+y, data) #acumula datos con x"
   ]
  },
  {
   "cell_type": "code",
   "execution_count": 82,
   "id": "e5c9a34b",
   "metadata": {},
   "outputs": [
    {
     "data": {
      "text/plain": [
       "55"
      ]
     },
     "execution_count": 82,
     "metadata": {},
     "output_type": "execute_result"
    }
   ],
   "source": [
    "reduced_data"
   ]
  },
  {
   "cell_type": "code",
   "execution_count": null,
   "id": "468a4456",
   "metadata": {},
   "outputs": [],
   "source": []
  }
 ],
 "metadata": {
  "kernelspec": {
   "display_name": "Python 3",
   "language": "python",
   "name": "python3"
  },
  "language_info": {
   "codemirror_mode": {
    "name": "ipython",
    "version": 3
   },
   "file_extension": ".py",
   "mimetype": "text/x-python",
   "name": "python",
   "nbconvert_exporter": "python",
   "pygments_lexer": "ipython3",
   "version": "3.8.8"
  }
 },
 "nbformat": 4,
 "nbformat_minor": 5
}
