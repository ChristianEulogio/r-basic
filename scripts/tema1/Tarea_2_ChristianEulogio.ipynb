{
 "cells": [
  {
   "cell_type": "code",
   "execution_count": 1,
   "id": "9098d990",
   "metadata": {},
   "outputs": [
    {
     "name": "stdout",
     "output_type": "stream",
     "text": [
      "Inserta un numero: 12\n",
      "El numero 12 es positivo\n"
     ]
    }
   ],
   "source": [
    "\"\"\"\n",
    "Escribe una secuencia de instrucciones \n",
    "que permitan leer un número real por pantalla \n",
    "y que muestre si el número es positivo o no.\n",
    "\"\"\"\n",
    "\n",
    "n=int(input(\"Inserta un numero: \"))\n",
    "\n",
    "if n < 0:\n",
    "    print(f\"El numero {n} es negativo\")\n",
    "else:\n",
    "    print(f\"El numero {n} es positivo\")"
   ]
  },
  {
   "cell_type": "code",
   "execution_count": 6,
   "id": "a9a044b9",
   "metadata": {},
   "outputs": [
    {
     "name": "stdout",
     "output_type": "stream",
     "text": [
      "Inserta un numero: 6\n",
      "El numero 6 no esta en el rango -5 y 5\n"
     ]
    }
   ],
   "source": [
    "\"\"\"\n",
    "Escribe una secuencia de instrucciones que permitan leer \n",
    "un número real por pantalla y que muestre si el número \n",
    "está en el rango entre -5 y 5\n",
    "\"\"\"\n",
    "\n",
    "\n",
    "x=int(input(\"Inserta un numero: \"))\n",
    "\n",
    "if x < -5:\n",
    "    print(f\"El numero {x} no esta en el rango -5 y 5\")\n",
    "elif x > 5:\n",
    "    print(f\"El numero {x} no esta en el rango -5 y 5\")\n",
    "else:\n",
    "    print(f\"El numero {x} esta en el rango -5 y 5\")"
   ]
  },
  {
   "cell_type": "code",
   "execution_count": 8,
   "id": "ebf0dfca",
   "metadata": {},
   "outputs": [],
   "source": [
    "\"\"\"\n",
    "Escribe una secuencia de instrucciones que permitan leer las coordenadas\n",
    "de un punto (x, y) e indique en cuál de los cuatro cuadrantes se encuentra \n",
    "dicho punto.\n",
    "\"\"\"\n",
    "\n",
    "def cuadrante(x,y):\n",
    "    if x>0 and y>0:\n",
    "        print(\"Las cordenadas se encuentran en el primer cuadrante\")\n",
    "    elif x<0 and y>0:\n",
    "        print(\"Las cordenadas se encuentran en el segundo cuadrante\")\n",
    "    elif x<0 and y<0:\n",
    "        print(\"Las cordenadas se encuentran en el tercer cuadrante\")\n",
    "    elif x>0 and y<0:\n",
    "        print(\"Las cordenadas se encuentran en el cuarto cuadrante\")\n",
    "    "
   ]
  },
  {
   "cell_type": "code",
   "execution_count": 9,
   "id": "63a70d4e",
   "metadata": {},
   "outputs": [
    {
     "name": "stdout",
     "output_type": "stream",
     "text": [
      "Las cordenadas se encuentran en el primer cuadrante\n"
     ]
    }
   ],
   "source": [
    "cuadrante(9,7)"
   ]
  },
  {
   "cell_type": "code",
   "execution_count": 10,
   "id": "f37bb20a",
   "metadata": {},
   "outputs": [
    {
     "name": "stdout",
     "output_type": "stream",
     "text": [
      "Las cordenadas se encuentran en el tercer cuadrante\n"
     ]
    }
   ],
   "source": [
    "cuadrante(-9,-4)"
   ]
  },
  {
   "cell_type": "code",
   "execution_count": 11,
   "id": "5d54a04f",
   "metadata": {},
   "outputs": [
    {
     "name": "stdout",
     "output_type": "stream",
     "text": [
      "Las cordenadas se encuentran en el segundo cuadrante\n"
     ]
    }
   ],
   "source": [
    "cuadrante(-4,5)"
   ]
  },
  {
   "cell_type": "code",
   "execution_count": 12,
   "id": "929e2b05",
   "metadata": {},
   "outputs": [
    {
     "name": "stdout",
     "output_type": "stream",
     "text": [
      "Las cordenadas se encuentran en el cuarto cuadrante\n"
     ]
    }
   ],
   "source": [
    "cuadrante(9,-8)"
   ]
  },
  {
   "cell_type": "code",
   "execution_count": 30,
   "id": "42ffc2ed",
   "metadata": {},
   "outputs": [],
   "source": [
    "\"\"\"\n",
    "Escribe una secuencia deinstrucciones que permitan \n",
    "leer dos números enteros y muestre el cociente de \n",
    "la división entera y el resto.\n",
    "\"\"\"\n",
    "def division(x,y):\n",
    "    resto=x%y \n",
    "    cociente=x//y \n",
    "    return print(f\"el cociente es: {cociente} y el resto es: {resto}\")\n",
    "    "
   ]
  },
  {
   "cell_type": "code",
   "execution_count": 37,
   "id": "0637c56f",
   "metadata": {},
   "outputs": [
    {
     "name": "stdout",
     "output_type": "stream",
     "text": [
      "el cociente es: 5 y el resto es: 0\n"
     ]
    }
   ],
   "source": [
    "division(10,2)"
   ]
  },
  {
   "cell_type": "code",
   "execution_count": 50,
   "id": "a750479e",
   "metadata": {},
   "outputs": [
    {
     "name": "stdout",
     "output_type": "stream",
     "text": [
      "Introduce un numero: 4\n",
      "el numero 4 es un cuadrado perfecto\n",
      "4.0\n"
     ]
    }
   ],
   "source": [
    "\"\"\"\n",
    "Escribe una secuencia de instrucciones que permitan leer\n",
    "un número entero es cuadrado perfecto o no (piensa la mejor\n",
    "forma de hacerlo con lo que has aprendido hasta ahora)\n",
    "\"\"\"\n",
    "\n",
    "import math\n",
    "\n",
    "numero=int(input(\"Introduce un numero: \"))\n",
    "    \n",
    "n=math.sqrt(numero)\n",
    "\n",
    "if n*n == numero:\n",
    "    print(f\"el numero {numero} es un cuadrado perfecto\")\n",
    "else:\n",
    "    print(f\"el numero {numero} no es un cuadrado perfecto\")\n",
    "    \n",
    "print(n*n)\n",
    "\n",
    "    "
   ]
  },
  {
   "cell_type": "code",
   "execution_count": 53,
   "id": "65762589",
   "metadata": {},
   "outputs": [],
   "source": [
    "\"\"\"\n",
    "Escribe una expresión que permita determinar si un número\n",
    "entero positivo puede corresponder a un año bisiesto o no.\n",
    "Se consideran años bisiestos aquellos cuyo número es divisible\n",
    "por cuatro excepto los años que son múltiplos de 100, a no ser\n",
    "que lo sean de 400\n",
    "(por ejemplo el año 2000 fue bisiesto pero el 2100 no lo será).\n",
    "\"\"\"\n",
    "\n",
    "def es_bisiesto(year):\n",
    "    if year % 4 == 0:\n",
    "        print(f\"El year {year} es bisiesto\")\n",
    "    elif year % 100 == 0:\n",
    "         print(f\"El year {year} no es bisiesto\")\n",
    "    elif year % 400 == 0:\n",
    "         print(f\"El year {year} es bisiesto\")\n",
    "    else:\n",
    "         print(f\"El year {year} no es bisiesto\")"
   ]
  },
  {
   "cell_type": "code",
   "execution_count": 54,
   "id": "be6e2947",
   "metadata": {},
   "outputs": [
    {
     "name": "stdout",
     "output_type": "stream",
     "text": [
      "El year 2020 es bisiesto\n"
     ]
    }
   ],
   "source": [
    "es_bisiesto(2020)"
   ]
  },
  {
   "cell_type": "code",
   "execution_count": 55,
   "id": "33dd194f",
   "metadata": {},
   "outputs": [
    {
     "name": "stdout",
     "output_type": "stream",
     "text": [
      "El year 400000000 es bisiesto\n"
     ]
    }
   ],
   "source": [
    "es_bisiesto(400000000)"
   ]
  },
  {
   "cell_type": "code",
   "execution_count": 94,
   "id": "5e9746e5",
   "metadata": {},
   "outputs": [],
   "source": [
    "\"\"\"\n",
    "Busca la imagen de un tablero de ajedrez en Google\n",
    "y fíjate en la nomenclatura de las casillas.\n",
    "Escribe una expresión lea una letra y un número de\n",
    "teclado correspondiente a una casilla de un tablero \n",
    "de ajedrez y nos indique si esta casilla es negra o blanca.\n",
    "\"\"\"\n",
    "\n",
    "a=\"a\"\n",
    "b=\"b\"\n",
    "c=\"c\"\n",
    "d=\"d\"\n",
    "e=\"e\"\n",
    "f=\"f\"\n",
    "g=\"g\"\n",
    "h=\"h\"\n",
    "def color(x,y):\n",
    "    if x ==\"a\" and y%2 == 0:\n",
    "        print(\"es blanca\")\n",
    "    elif x==\"a\" and y%2 != 0:\n",
    "        print(\"es negra\")\n",
    "    elif x ==\"b\" and y%2 == 0:\n",
    "        print(\"es negra\")\n",
    "    elif x==\"b\" and y%2 != 0:\n",
    "        print(\"es blanca\")\n",
    "    elif x ==\"c\" and y%2 == 0:\n",
    "        print(\"es blanca\")\n",
    "    elif x==\"c\" and y%2 != 0:\n",
    "        print(\"es negra\")\n",
    "    elif x ==\"d\" and y%2 == 0:\n",
    "        print(\"es negra\")\n",
    "    elif x==\"d\" and y%2 != 0:\n",
    "        print(\"es blanca\")\n",
    "    elif x ==\"e\" and y%2 == 0:\n",
    "        print(\"es blanca\")\n",
    "    elif x==\"e\" and y%2 != 0:\n",
    "        print(\"es negra\")\n",
    "    elif x ==\"f\" and y%2 == 0:\n",
    "        print(\"es negra\")\n",
    "    elif x==\"f\" and y%2 != 0:\n",
    "        print(\"es blanca\")\n",
    "    elif x ==\"g\" and y%2 == 0:\n",
    "        print(\"es blanca\")\n",
    "    elif x==\"g\" and y%2 != 0:\n",
    "        print(\"es negra\")\n",
    "    elif x ==\"h\" and y%2 == 0:\n",
    "        print(\"es negra\")\n",
    "    elif x==\"h\" and y%2 != 0:\n",
    "        print(\"es blanca\")\n",
    "    else: \n",
    "        print(\"no es blanca\")\n",
    "        "
   ]
  },
  {
   "cell_type": "code",
   "execution_count": 110,
   "id": "95514439",
   "metadata": {},
   "outputs": [
    {
     "name": "stdout",
     "output_type": "stream",
     "text": [
      "es blanca\n"
     ]
    }
   ],
   "source": [
    "color(c,4)"
   ]
  },
  {
   "cell_type": "code",
   "execution_count": 4,
   "id": "566b8a05",
   "metadata": {},
   "outputs": [
    {
     "name": "stdout",
     "output_type": "stream",
     "text": [
      "Introduce la Casilla (ej: A1): A4\n",
      "Blanco\n",
      "1\n"
     ]
    }
   ],
   "source": [
    "#utiliza las letras como numeros en un diccionario\n",
    "entrada = input('Introduce la Casilla (ej: A1): ')\n",
    "letras = {'A':1,'B':2,'C':3,'D':4,'E':5,'F':6,'G':7,'H':8}\n",
    "letra = entrada[0]\n",
    "numero1 = int(entrada[1])\n",
    "numero2 = letras[letra]\n",
    "if (numero1+numero2)%2 == 0:\n",
    "    print('Negro')\n",
    "else:\n",
    "    print('Blanco')\n",
    "\n",
    "print(numero2)"
   ]
  },
  {
   "cell_type": "code",
   "execution_count": null,
   "id": "c248d5cd",
   "metadata": {},
   "outputs": [],
   "source": []
  }
 ],
 "metadata": {
  "kernelspec": {
   "display_name": "Python 3",
   "language": "python",
   "name": "python3"
  },
  "language_info": {
   "codemirror_mode": {
    "name": "ipython",
    "version": 3
   },
   "file_extension": ".py",
   "mimetype": "text/x-python",
   "name": "python",
   "nbconvert_exporter": "python",
   "pygments_lexer": "ipython3",
   "version": "3.8.8"
  }
 },
 "nbformat": 4,
 "nbformat_minor": 5
}
