{
 "cells": [
  {
   "cell_type": "code",
   "execution_count": 1,
   "id": "9098d990",
   "metadata": {},
   "outputs": [
    {
     "name": "stdout",
     "output_type": "stream",
     "text": [
      "Inserta un numero: 12\n",
      "El numero 12 es positivo\n"
     ]
    }
   ],
   "source": [
    "n=int(input(\"Inserta un numero: \"))\n",
    "\n",
    "if n < 0:\n",
    "    print(f\"El numero {n} es negativo\")\n",
    "else:\n",
    "    print(f\"El numero {n} es positivo\")"
   ]
  },
  {
   "cell_type": "code",
   "execution_count": 6,
   "id": "a9a044b9",
   "metadata": {},
   "outputs": [
    {
     "name": "stdout",
     "output_type": "stream",
     "text": [
      "Inserta un numero: 6\n",
      "El numero 6 no esta en el rango -5 y 5\n"
     ]
    }
   ],
   "source": [
    "x=int(input(\"Inserta un numero: \"))\n",
    "\n",
    "if x < -5:\n",
    "    print(f\"El numero {x} no esta en el rango -5 y 5\")\n",
    "elif x > 5:\n",
    "    print(f\"El numero {x} no esta en el rango -5 y 5\")\n",
    "else:\n",
    "    print(f\"El numero {x} esta en el rango -5 y 5\")"
   ]
  },
  {
   "cell_type": "code",
   "execution_count": 8,
   "id": "ef7dafa8",
   "metadata": {},
   "outputs": [],
   "source": [
    "def cuadrante(x,y):\n",
    "    if x>0 and y>0:\n",
    "        print(\"Las cordenadas se encuentran en el primer cuadrante\")\n",
    "    elif x<0 and y>0:\n",
    "        print(\"Las cordenadas se encuentran en el segundo cuadrante\")\n",
    "    elif x<0 and y<0:\n",
    "        print(\"Las cordenadas se encuentran en el tercer cuadrante\")\n",
    "    elif x>0 and y<0:\n",
    "        print(\"Las cordenadas se encuentran en el cuarto cuadrante\")\n",
    "    "
   ]
  },
  {
   "cell_type": "code",
   "execution_count": 9,
   "id": "7f8208f0",
   "metadata": {},
   "outputs": [
    {
     "name": "stdout",
     "output_type": "stream",
     "text": [
      "Las cordenadas se encuentran en el primer cuadrante\n"
     ]
    }
   ],
   "source": [
    "cuadrante(9,7)"
   ]
  },
  {
   "cell_type": "code",
   "execution_count": 10,
   "id": "a988c071",
   "metadata": {},
   "outputs": [
    {
     "name": "stdout",
     "output_type": "stream",
     "text": [
      "Las cordenadas se encuentran en el tercer cuadrante\n"
     ]
    }
   ],
   "source": [
    "cuadrante(-9,-4)"
   ]
  },
  {
   "cell_type": "code",
   "execution_count": 11,
   "id": "6b12a68b",
   "metadata": {},
   "outputs": [
    {
     "name": "stdout",
     "output_type": "stream",
     "text": [
      "Las cordenadas se encuentran en el segundo cuadrante\n"
     ]
    }
   ],
   "source": [
    "cuadrante(-4,5)"
   ]
  },
  {
   "cell_type": "code",
   "execution_count": 12,
   "id": "eb4900eb",
   "metadata": {},
   "outputs": [
    {
     "name": "stdout",
     "output_type": "stream",
     "text": [
      "Las cordenadas se encuentran en el cuarto cuadrante\n"
     ]
    }
   ],
   "source": [
    "cuadrante(9,-8)"
   ]
  },
  {
   "cell_type": "code",
   "execution_count": 30,
   "id": "fb3f9f5f",
   "metadata": {},
   "outputs": [],
   "source": [
    "def division(x,y):\n",
    "    resto=x%y \n",
    "    cociente=x//y \n",
    "    return print(f\"el cociente es: {cociente} y el resto es: {resto}\")\n",
    "    "
   ]
  },
  {
   "cell_type": "code",
   "execution_count": 37,
   "id": "ca765d0b",
   "metadata": {},
   "outputs": [
    {
     "name": "stdout",
     "output_type": "stream",
     "text": [
      "el cociente es: 5 y el resto es: 0\n"
     ]
    }
   ],
   "source": [
    "division(10,2)"
   ]
  },
  {
   "cell_type": "code",
   "execution_count": 50,
   "id": "05a2d1f2",
   "metadata": {},
   "outputs": [
    {
     "name": "stdout",
     "output_type": "stream",
     "text": [
      "Introduce un numero: 4\n",
      "el numero 4 es un cuadrado perfecto\n",
      "4.0\n"
     ]
    }
   ],
   "source": [
    "import math\n",
    "\n",
    "numero=int(input(\"Introduce un numero: \"))\n",
    "    \n",
    "n=math.sqrt(numero)\n",
    "\n",
    "if n*n == numero:\n",
    "    print(f\"el numero {numero} es un cuadrado perfecto\")\n",
    "else:\n",
    "    print(f\"el numero {numero} no es un cuadrado perfecto\")\n",
    "    \n",
    "print(n*n)\n",
    "\n",
    "    "
   ]
  },
  {
   "cell_type": "code",
   "execution_count": 39,
   "id": "c5b0c9a3",
   "metadata": {},
   "outputs": [
    {
     "name": "stdout",
     "output_type": "stream",
     "text": [
      "El numero es un numero cuadrado perfecto\n"
     ]
    }
   ],
   "source": [
    "numero=int(input(\"Introduce un numero: \"))\n",
    "n=numero/4\n",
    "\n",
    "if n*n == numero:\n",
    "    print(f\"el numero {numero} es un cuadrado perfecto\")\n",
    "else:\n",
    "    print(f\"el numero {numero} no es un cuadrado perfecto\")"
   ]
  },
  {
   "cell_type": "code",
   "execution_count": 40,
   "id": "d8d6b2f9",
   "metadata": {},
   "outputs": [
    {
     "name": "stdout",
     "output_type": "stream",
     "text": [
      "El numero es un numero cuadrado perfecto\n"
     ]
    }
   ],
   "source": []
  },
  {
   "cell_type": "code",
   "execution_count": null,
   "id": "37a528aa",
   "metadata": {},
   "outputs": [],
   "source": []
  }
 ],
 "metadata": {
  "kernelspec": {
   "display_name": "Python 3",
   "language": "python",
   "name": "python3"
  },
  "language_info": {
   "codemirror_mode": {
    "name": "ipython",
    "version": 3
   },
   "file_extension": ".py",
   "mimetype": "text/x-python",
   "name": "python",
   "nbconvert_exporter": "python",
   "pygments_lexer": "ipython3",
   "version": "3.8.8"
  }
 },
 "nbformat": 4,
 "nbformat_minor": 5
}
